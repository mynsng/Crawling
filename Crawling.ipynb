{
 "cells": [
  {
   "cell_type": "code",
   "execution_count": 18,
   "metadata": {},
   "outputs": [],
   "source": [
    "from selenium import webdriver\n",
    "import urllib.request\n",
    "import time"
   ]
  },
  {
   "cell_type": "code",
   "execution_count": 58,
   "metadata": {},
   "outputs": [],
   "source": [
    "dr = webdriver.Chrome('\\\\Users\\\\mynsng\\\\Downloads\\\\chromedriver')\n",
    "dr.get('https://store.musinsa.com/app/items/lists/001001/?category=&d_cat_cd=001001&u_cat_cd=&brand=&sort=pop&display_cnt=120&page=1&page_kind=category&list_kind=small&free_dlv=&ex_soldout=&sale_goods=&exclusive_yn=&price=&color=1&a_cat_cd=&sex=&size=&tag=&popup=&brand_favorite_yn=&goods_favorite_yn=&blf_yn=&price1=&price2=')\n",
    "#무신사 홈페이지 접근 - 상의 버튼, 색 버튼 누르는거 구현이 힘들어서 그냥 상의, 반팔티, 흰색을 누른 사이트를 불러옴"
   ]
  },
  {
   "cell_type": "code",
   "execution_count": 59,
   "metadata": {},
   "outputs": [],
   "source": [
    "target = 1000\n",
    "while True:\n",
    "    full_height = dr.execute_script(\"return document.body.scrollHeight\")\n",
    "    dr.execute_script(\"window.scrollTo(250, {0});\".format(target))\n",
    "    time.sleep(3)\n",
    "    target = target + 700\n",
    "    if target >= full_height:\n",
    "        break\n",
    "#사이트에서 화면에 비취진 부분의 사진만 로드되고, 로드 된 사진만 크롤링 할 수 있어서 스크롤을 내리는 작업이 필요하다.\n",
    "#full_height에 전체 y방향 스크롤 길이를 넣고 target 값을 점점 키우면서 스크롤을 아래로 내리고 맨 아래에 도착하면 끝낸다.\n",
    "#각자 화면 크기가 다를테니까 조정이 필요할듯...?"
   ]
  },
  {
   "cell_type": "code",
   "execution_count": 60,
   "metadata": {},
   "outputs": [],
   "source": [
    "items = dr.find_element_by_id('searchList')\n",
    "images = items.find_elements_by_css_selector('img[src^=\"//image.musinsa.com/images/goods_img\"]')\n",
    "#사진의 url을 따오는 과정"
   ]
  },
  {
   "cell_type": "code",
   "execution_count": 61,
   "metadata": {},
   "outputs": [],
   "source": [
    "image_urls = []\n",
    "for image in images:\n",
    "    image_urls.append(image.get_attribute(\"src\"))\n",
    "#url을 배열로 만드는 과정"
   ]
  },
  {
   "cell_type": "code",
   "execution_count": 62,
   "metadata": {},
   "outputs": [],
   "source": [
    "for index, image_url in enumerate(image_urls):\n",
    "    urllib.request.urlretrieve(image_url, '\\\\Users\\\\mynsng\\\\result\\\\' + \"white, top \" + str(index) +\".jpg\")\n",
    "#사진을 원하는 폴더에 원하는 이름으로 저장하는 과정"
   ]
  },
  {
   "cell_type": "code",
   "execution_count": null,
   "metadata": {},
   "outputs": [],
   "source": []
  }
 ],
 "metadata": {
  "kernelspec": {
   "display_name": "Python 3",
   "language": "python",
   "name": "python3"
  },
  "language_info": {
   "codemirror_mode": {
    "name": "ipython",
    "version": 3
   },
   "file_extension": ".py",
   "mimetype": "text/x-python",
   "name": "python",
   "nbconvert_exporter": "python",
   "pygments_lexer": "ipython3",
   "version": "3.7.3"
  }
 },
 "nbformat": 4,
 "nbformat_minor": 2
}
